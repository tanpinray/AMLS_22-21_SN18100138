{
 "cells": [
  {
   "cell_type": "code",
   "execution_count": 49,
   "id": "4ad4d4f0-b107-442b-a0ac-7881dd54a474",
   "metadata": {},
   "outputs": [],
   "source": [
    "import matplotlib.pyplot as plt\n",
    "import numpy as np\n",
    "import pandas as pd\n",
    "import os\n",
    "import random\n",
    "import math\n",
    "import imgaug.augmenters as iaa\n",
    "from sklearn.decomposition import PCA\n",
    "from sklearn.preprocessing import StandardScaler\n",
    "from skimage.io import imread, imshow\n",
    "from skimage.transform import resize\n",
    "from skimage.feature import hog, local_binary_pattern, canny\n",
    "from sklearn.model_selection import train_test_split, GridSearchCV\n",
    "from sklearn.feature_selection import SelectFromModel\n",
    "from sklearn.neighbors import KNeighborsClassifier\n",
    "from sklearn.ensemble import RandomForestClassifier, BaggingClassifier, AdaBoostClassifier, VotingClassifier, ExtraTreesClassifier\n",
    "from sklearn import svm, metrics\n",
    "\n",
    "# TODO\n",
    "# Hyper-parameter tuning\n",
    "# It was observed from the confusion matrix that all classifiers performed worse in these scenarios:\n",
    "# 1. Predicting label 2 as 1, and predicting label 1 as 2"
   ]
  },
  {
   "cell_type": "code",
   "execution_count": 3,
   "id": "63cda3e0-0415-47cc-a990-c7bd37ceb9d7",
   "metadata": {},
   "outputs": [
    {
     "data": {
      "text/html": [
       "<div>\n",
       "<style scoped>\n",
       "    .dataframe tbody tr th:only-of-type {\n",
       "        vertical-align: middle;\n",
       "    }\n",
       "\n",
       "    .dataframe tbody tr th {\n",
       "        vertical-align: top;\n",
       "    }\n",
       "\n",
       "    .dataframe thead th {\n",
       "        text-align: right;\n",
       "    }\n",
       "</style>\n",
       "<table border=\"1\" class=\"dataframe\">\n",
       "  <thead>\n",
       "    <tr style=\"text-align: right;\">\n",
       "      <th></th>\n",
       "      <th>file_name</th>\n",
       "      <th>label</th>\n",
       "    </tr>\n",
       "  </thead>\n",
       "  <tbody>\n",
       "    <tr>\n",
       "      <th>0</th>\n",
       "      <td>IMAGE_0000.jpg</td>\n",
       "      <td>meningioma_tumor</td>\n",
       "    </tr>\n",
       "    <tr>\n",
       "      <th>1</th>\n",
       "      <td>IMAGE_0001.jpg</td>\n",
       "      <td>no_tumor</td>\n",
       "    </tr>\n",
       "    <tr>\n",
       "      <th>2</th>\n",
       "      <td>IMAGE_0002.jpg</td>\n",
       "      <td>meningioma_tumor</td>\n",
       "    </tr>\n",
       "    <tr>\n",
       "      <th>3</th>\n",
       "      <td>IMAGE_0003.jpg</td>\n",
       "      <td>glioma_tumor</td>\n",
       "    </tr>\n",
       "    <tr>\n",
       "      <th>4</th>\n",
       "      <td>IMAGE_0004.jpg</td>\n",
       "      <td>meningioma_tumor</td>\n",
       "    </tr>\n",
       "  </tbody>\n",
       "</table>\n",
       "</div>"
      ],
      "text/plain": [
       "        file_name             label\n",
       "0  IMAGE_0000.jpg  meningioma_tumor\n",
       "1  IMAGE_0001.jpg          no_tumor\n",
       "2  IMAGE_0002.jpg  meningioma_tumor\n",
       "3  IMAGE_0003.jpg      glioma_tumor\n",
       "4  IMAGE_0004.jpg  meningioma_tumor"
      ]
     },
     "execution_count": 3,
     "metadata": {},
     "output_type": "execute_result"
    }
   ],
   "source": [
    "df = pd.read_csv('./dataset/label.csv')\n",
    "df.head()"
   ]
  },
  {
   "cell_type": "code",
   "execution_count": 4,
   "id": "c1fa13bd-3a53-40f4-8179-0d32b126a11d",
   "metadata": {},
   "outputs": [
    {
     "data": {
      "text/plain": [
       "glioma_tumor        860\n",
       "meningioma_tumor    855\n",
       "pituitary_tumor     831\n",
       "no_tumor            454\n",
       "Name: label, dtype: int64"
      ]
     },
     "execution_count": 4,
     "metadata": {},
     "output_type": "execute_result"
    }
   ],
   "source": [
    "df['label'].value_counts()"
   ]
  },
  {
   "cell_type": "code",
   "execution_count": 5,
   "id": "ba7f9462-82ac-4de2-96b4-90d430ae0044",
   "metadata": {},
   "outputs": [],
   "source": [
    "def create_classes(df):\n",
    "    '''\n",
    "    Inputs\n",
    "        df: Label data.\n",
    "        \n",
    "    Return\n",
    "        classes: List of labels - 0 if no_tumor, 1 if glioma_tumor, 2 if meningioma_tumor, 3 if pituitary_tumor\n",
    "    '''\n",
    "    \n",
    "    classes = []\n",
    "    for label in df['label']:\n",
    "        if 'no_tumor' in label:\n",
    "            classes.append(0)\n",
    "        elif 'glioma_tumor' in label:\n",
    "            classes.append(1)\n",
    "        elif 'meningioma_tumor' in label:\n",
    "            classes.append(2)\n",
    "        elif 'pituitary_tumor' in label:\n",
    "            classes.append(3)\n",
    "    return classes"
   ]
  },
  {
   "cell_type": "code",
   "execution_count": 68,
   "id": "008f8ebc",
   "metadata": {},
   "outputs": [],
   "source": [
    "data_path = './dataset/image'\n",
    "images = []\n",
    "for filename in df['file_name']:\n",
    "    im = imread(os.path.join(data_path, filename), as_gray = True)\n",
    "    resized_im = resize(im, (128, 64))\n",
    "    images.append(resized_im)\n",
    "\n",
    "# noTumor_idx = df.index[df['label']=='no_tumor'].tolist()\n",
    "# images_noTumor = []\n",
    "# for idx in noTumor_idx:\n",
    "#     filename = df.at[idx, 'file_name']\n",
    "#     im = imread(os.path.join(data_path, filename), as_gray = True)\n",
    "#     resized_im = resize(im, (128, 64))\n",
    "#     images_noTumor.append(resized_im)\n",
    "\n",
    "noTumor_idx = df.index[df['label']=='no_tumor'].tolist()\n",
    "images_noTumor = []\n",
    "for idx in noTumor_idx:\n",
    "    images_noTumor.append(images[idx])\n",
    "\n",
    "glioma_idx = df.index[df['label']=='glioma_tumor'].tolist()\n",
    "glioma_idx_sample = random.choices(glioma_idx, k=math.floor(len(glioma_idx)/2))\n",
    "images_glioma = []\n",
    "for idx in glioma_idx_sample:\n",
    "    images_glioma.append(images[idx])\n",
    "\n",
    "meningioma_idx = df.index[df['label']=='meningioma_tumor'].tolist()\n",
    "meningioma_idx_sample = random.choices(meningioma_idx, k=math.floor(len(meningioma_idx)/2))\n",
    "images_meningioma = []\n",
    "for idx in meningioma_idx_sample:\n",
    "    images_meningioma.append(images[idx])\n",
    "\n",
    "seq = iaa.Sequential([\n",
    "    iaa.Fliplr(0.5), # horizontal flips\n",
    "    # Small gaussian blur with random sigma between 0 and 0.5.\n",
    "    # But we only blur about 50% of all images.\n",
    "    iaa.Sometimes(\n",
    "        0.5,\n",
    "        iaa.GaussianBlur(sigma=(0, 0.5))\n",
    "    ),\n",
    "    iaa.Affine(\n",
    "        scale={\"x\": (0.8, 1.2), \"y\": (0.8, 1.2)},\n",
    "        translate_percent={\"x\": (-0.2, 0.2), \"y\": (-0.2, 0.2)},\n",
    "        rotate=(-25, 25),\n",
    "        shear=(-8, 8)\n",
    "    )\n",
    "], random_order=True)\n",
    "\n",
    "images_aug_noTumor = seq(images=images_noTumor)\n",
    "images_aug_glioma = seq(images=images_glioma)\n",
    "images_aug_meningioma = seq(images=images_meningioma)\n",
    "\n",
    "images_new = images + images_aug_noTumor + images_aug_glioma + images_aug_meningioma\n"
   ]
  },
  {
   "cell_type": "code",
   "execution_count": 75,
   "id": "77b709bc-3a5a-42cf-ac0c-83115c3dbf29",
   "metadata": {},
   "outputs": [],
   "source": [
    "def extract_hog(images_pixelData):\n",
    "    '''\n",
    "    Inputs\n",
    "        data_path: Directory path to images in dataset;\n",
    "        df: Label data.\n",
    "        \n",
    "    Return\n",
    "       hog_features: A list of HOG features for each image\n",
    "    '''\n",
    "    hog_features = []\n",
    "    # for filename in df['file_name']:\n",
    "    #     # use imread to load image from specified file name in grayscale\n",
    "    #     im = imread(os.path.join(data_path, filename), as_gray = True)\n",
    "    #     # use resize the image to a 128 by 64 pixel image\n",
    "    #     resized_im = resize(im, (128, 64))\n",
    "    #     # Extract Histogram of Oriented Gradients (HOG) for the image\n",
    "    #     fd = hog(resized_im, orientations = 9, pixels_per_cell = (8, 8),\n",
    "    #                         cells_per_block = (2, 2), visualize = False, block_norm='L2-Hys')\n",
    "    #     hog_features.append(fd)\n",
    "\n",
    "    for i in range(len(images_pixelData)):\n",
    "        fd = hog(images_pixelData[i], orientations = 9, pixels_per_cell = (8, 8),\n",
    "                            cells_per_block = (2, 2), visualize = False, block_norm='L2-Hys')\n",
    "        hog_features.append(fd)\n",
    "\n",
    "    return hog_features\n",
    "\n",
    "if os.path.exists('./dataset/label_taskB_hog.pkl'):\n",
    "    print('The pickle file for Task B with HOG features data already exists')\n",
    "else:\n",
    "    data_path = './dataset/image'\n",
    "    classes = create_classes(df)\n",
    "    hog_features = extract_hog(images_new)\n",
    "    \n",
    "    label_taskB = pd.DataFrame(data = hog_features)\n",
    "    # classes: List of labels - 0 if no_tumor, 1 if glioma_tumor, 2 if meningioma_tumor, 3 if pituitary_tumor\n",
    "    label_taskB['num_label'] = classes + [0]*len(noTumor_idx) + [1]*len(glioma_idx_sample) + [2]*len(meningioma_idx_sample)\n",
    "    label_taskB.to_pickle(\"./dataset/label_taskB_hog.pkl\")"
   ]
  },
  {
   "cell_type": "code",
   "execution_count": 6,
   "id": "d797c4ed-8753-4c0a-8dac-aea457b089f3",
   "metadata": {},
   "outputs": [
    {
     "name": "stdout",
     "output_type": "stream",
     "text": [
      "The csv file for Task B with lbp features data already exists\n"
     ]
    }
   ],
   "source": [
    "def extract_lbp(data_path, df, numPoints, radius):\n",
    "    '''\n",
    "    Inputs\n",
    "        data_path: Directory path to images in dataset;\n",
    "        df: Label data.\n",
    "        \n",
    "    Return\n",
    "       lbp_features: A list of Local Binary Pattern (LBP) features for each image\n",
    "    '''\n",
    "    lbp_features = []\n",
    "    for filename in df['file_name']:\n",
    "        # use imread to load image from specified file name in grayscale\n",
    "        im = imread(os.path.join(data_path, filename), as_gray = True)\n",
    "        # use resize the image to a 128 by 64 pixel image\n",
    "        resized_im = resize(im, (128, 64))\n",
    "        \n",
    "        # Extract Local Binary Pattern (LBP) for the image\n",
    "        lbp = local_binary_pattern(resized_im, numPoints, radius, method=\"uniform\")\n",
    "        # Create bins for histogram\n",
    "        n_bins = int(lbp.max() + 1)\n",
    "        # Create histogram for image\n",
    "        (hist, _) = np.histogram(lbp.ravel(), bins=n_bins, range=(0, n_bins))\n",
    "        \n",
    "        # # normalize the histogram\n",
    "        # hist = hist.astype(\"float\")\n",
    "        # hist /= (hist.sum() + eps)\n",
    "        \n",
    "        lbp_features.append(hist)\n",
    "    return lbp_features\n",
    "\n",
    "if os.path.exists('./dataset/label_taskB_lbp.csv'):\n",
    "    print('The csv file for Task B with lbp features data already exists')\n",
    "else:\n",
    "    data_path = './dataset/image'\n",
    "    classes = create_classes(df)\n",
    "    lbp_features = extract_lbp(data_path, df, 24, 3)\n",
    "    \n",
    "    label_taskB = pd.DataFrame(data = lbp_features)\n",
    "    label_taskB['num_label'] = classes\n",
    "    label_taskB.to_csv(\"./dataset/label_taskB_lbp.csv\")"
   ]
  },
  {
   "cell_type": "code",
   "execution_count": 7,
   "id": "d77c13a7-0b5b-4c6a-8da8-e199e3ceec86",
   "metadata": {},
   "outputs": [
    {
     "name": "stdout",
     "output_type": "stream",
     "text": [
      "The csv file for Task B image data filtered with Canny filter already exists\n"
     ]
    }
   ],
   "source": [
    "def extract_canny(data_path, df, sigma):\n",
    "    '''\n",
    "    Inputs\n",
    "        data_path: Directory path to images in dataset;\n",
    "        df: Label data.\n",
    "        \n",
    "    Return\n",
    "       canny_features: A list of Local Binary Pattern (LBP) features for each image\n",
    "    '''\n",
    "    canny_features = []\n",
    "    for filename in df['file_name']:\n",
    "        # use imread to load image from specified file name in grayscale\n",
    "        im = imread(os.path.join(data_path, filename), as_gray = True)\n",
    "        # use resize the image to a 128 by 64 pixel image\n",
    "        resized_im = resize(im, (128, 64))\n",
    "        \n",
    "        # Compute the Canny filter for the image\n",
    "        filtered_im = canny(resized_im, sigma=sigma)\n",
    "        filtered_im = filtered_im.ravel()\n",
    "        \n",
    "        canny_features.append(filtered_im)\n",
    "    return canny_features\n",
    "\n",
    "if os.path.exists('./dataset/label_taskB_canny.csv'):\n",
    "    print('The csv file for Task B image data filtered with Canny filter already exists')\n",
    "else:\n",
    "    data_path = './dataset/image'\n",
    "    classes = create_classes(df)\n",
    "    canny_features = extract_canny(data_path, df, 3)\n",
    "    \n",
    "    label_taskB = pd.DataFrame(data = canny_features)\n",
    "    label_taskB['num_label'] = classes\n",
    "    label_taskB.to_csv(\"./dataset/label_taskB_canny.csv\")"
   ]
  },
  {
   "cell_type": "code",
   "execution_count": 23,
   "id": "26814d18-7228-4bb9-9222-dbc957521ad9",
   "metadata": {},
   "outputs": [],
   "source": [
    "def PCAPredict(X_train, X_test, k):\n",
    "    '''\n",
    "    Inputs\n",
    "        X_train: Training dataset;\n",
    "        X_test: Testing dataset;\n",
    "        k: Number of components to use.\n",
    "        \n",
    "    Return\n",
    "        X_train_PCA: Training dataset after applying PCA to reduce its dimensions;\n",
    "        X_test_PCA: Test dataset after applying PCA to reduce its dimensions.\n",
    "    '''\n",
    "\n",
    "    # the built-in function for PCA\n",
    "    pca = PCA(k)\n",
    "    \n",
    "    # the built-in function to standardize features by removing the mean and scaling to unit variance\n",
    "    scaler = StandardScaler()\n",
    "\n",
    "    # fit the algorithm with dataset\n",
    "    \n",
    "    scaler.fit(X_train)\n",
    "    X_train_scaled = scaler.transform(X_train)\n",
    "    X_test_scaled = scaler.transform(X_test)\n",
    "    \n",
    "    pca.fit(X_train_scaled)\n",
    "    X_train_PCA = pca.transform(X_train_scaled)\n",
    "    X_test_PCA = pca.transform(X_test_scaled)\n",
    "    \n",
    "    return X_train_PCA, X_test_PCA"
   ]
  },
  {
   "cell_type": "code",
   "execution_count": 24,
   "id": "fe4f2bd7",
   "metadata": {},
   "outputs": [],
   "source": [
    "def feature_selection(X_train, X_test, y_train):\n",
    "    # clf = ExtraTreesClassifier(n_estimators=100)\n",
    "    # clf = clf.fit(X_train, y_train)\n",
    "    # model = SelectFromModel(clf, prefit=True)\n",
    "    # X_train_new = model.transform(X_train)\n",
    "    # X_test_new = model.transform(X_test)\n",
    "\n",
    "    # forest = RandomForestClassifier(random_state=0)\n",
    "    # forest.fit(X_train, y_train)\n",
    "    # model = SelectFromModel(forest, prefit=True)\n",
    "    # X_train_new = model.transform(X_train)\n",
    "    # X_test_new = model.transform(X_test)\n",
    "\n",
    "    lsvc = svm.LinearSVC(C=0.01, penalty=\"l1\", dual=False).fit(X_train, y_train)\n",
    "    model = SelectFromModel(lsvc, prefit=True)\n",
    "    X_train_new = model.transform(X_train)\n",
    "    X_test_new = model.transform(X_test)\n",
    "    \n",
    "    return X_train_new, X_test_new"
   ]
  },
  {
   "cell_type": "code",
   "execution_count": 76,
   "id": "898d39e4-9a9c-4999-923a-1340c787d75f",
   "metadata": {},
   "outputs": [
    {
     "name": "stdout",
     "output_type": "stream",
     "text": [
      "train set: 0.7  | test set: 0.3\n",
      "PCA done\n",
      "(3017, 603)\n"
     ]
    }
   ],
   "source": [
    "feature = 'hog'\n",
    "\n",
    "if feature == 'hog':\n",
    "    # Doing classification with image HOG features\n",
    "    label_taskB = pd.read_pickle(\"./dataset/label_taskB_hog.pkl\")\n",
    "elif feature == 'lbp':\n",
    "    # Doing classification with image LBP features\n",
    "    label_taskB = pd.read_csv(\"./dataset/label_taskB_lbp.csv\")\n",
    "elif feature == 'canny':\n",
    "    # Doing classification with Canny filtered image data\n",
    "    label_taskB = pd.read_csv(\"./dataset/label_taskB_canny.csv\")\n",
    "    \n",
    "X = label_taskB.drop('num_label',axis=1) # All other features\n",
    "Y = label_taskB['num_label'] # numerical label/classes\n",
    "\n",
    "X_train, X_test, y_train, y_test = train_test_split(X, Y, test_size = 0.3, random_state = 3) \n",
    "#test_size= should be between 0.0 and 1.0 and represent the proportion of the dataset to include in the test split\n",
    "#everytime you run it without specifying random_state, you will get a different result, this is expected behavior\n",
    "#print (len(X_test), len(y_test))\n",
    "\n",
    "print('train set: {}  | test set: {}'.format(round(((len(y_train)*1.0)/len(X)),3),\n",
    "                                                       round((len(y_test)*1.0)/len(X),3)))\n",
    "\n",
    "# Doing dimensionality reduction with PCA\n",
    "X_train, X_test = PCAPredict(X_train, X_test, 0.95)\n",
    "print('PCA done')\n",
    "\n",
    "# Doing feature selection\n",
    "X_train, X_test = feature_selection(X_train, X_test, y_train)\n",
    "print(X_train.shape)\n"
   ]
  },
  {
   "cell_type": "code",
   "execution_count": 77,
   "id": "35b12a59",
   "metadata": {},
   "outputs": [
    {
     "data": {
      "text/plain": [
       "2    912\n",
       "1    864\n",
       "0    653\n",
       "3    588\n",
       "Name: num_label, dtype: int64"
      ]
     },
     "execution_count": 77,
     "metadata": {},
     "output_type": "execute_result"
    }
   ],
   "source": [
    "pd.Series(y_train).value_counts()"
   ]
  },
  {
   "cell_type": "code",
   "execution_count": 78,
   "id": "e941fbeb",
   "metadata": {},
   "outputs": [
    {
     "name": "stdout",
     "output_type": "stream",
     "text": [
      "{'leaf_size': 10, 'n_neighbors': 1}\n",
      "KNN classifier score: 0.7642967542503863\n"
     ]
    },
    {
     "data": {
      "image/png": "[encoded data removed]",
      "text/plain": [
       "<Figure size 432x288 with 2 Axes>"
      ]
     },
     "metadata": {
      "needs_background": "light"
     },
     "output_type": "display_data"
    }
   ],
   "source": [
    "def KNNClassifierCV(X_train, y_train, X_test):\n",
    "    '''\n",
    "    Inputs\n",
    "        X_train: Training dataset;\n",
    "        y_train: Training labels;\n",
    "        X_test: Testing dataset;\n",
    "        k: Number of nearest neighbours to use.\n",
    "        \n",
    "    Return\n",
    "        Y_pred: Predicted labels from X_test using K-Nearest Neighbour.\n",
    "    '''\n",
    "\n",
    "    #Create KNN object with a K coefficient\n",
    "    parameters = {'n_neighbors':[1, 2, 3, 4, 5], 'leaf_size':[10, 30, 50]}\n",
    "    neigh = KNeighborsClassifier()\n",
    "    clf = GridSearchCV(neigh, parameters, scoring='accuracy')\n",
    "    clf.fit(X_train, y_train) # Fit KNN model\n",
    "    print(clf.best_params_)\n",
    "    Y_pred = clf.predict(X_test)\n",
    "    \n",
    "\n",
    "    disp = metrics.ConfusionMatrixDisplay.from_estimator(\n",
    "        clf,\n",
    "        X_test,\n",
    "        y_test,\n",
    "        cmap=plt.cm.Reds,\n",
    "        normalize='true'\n",
    "    )\n",
    "    disp.ax_.set_title('KNN Classifier')\n",
    "    \n",
    "    return Y_pred, disp\n",
    "\n",
    "# clf = svm.SVC()\n",
    "# clf.fit(X_train, y_train)\n",
    "# Y_pred = clf.predict(X_test)\n",
    "# throws error: setting an array element with a sequence\n",
    "# when getting X from dataframe, the resulting array is dtype object,\n",
    "# but when getting X directly from hog_features, resulting array is dtype float??\n",
    "\n",
    "Y_pred_KNN, disp_KNN = KNNClassifierCV(X_train, y_train, X_test)\n",
    "score_KNN = metrics.accuracy_score(y_test, Y_pred_KNN)\n",
    "print('KNN classifier score:', score_KNN)"
   ]
  },
  {
   "cell_type": "code",
   "execution_count": 42,
   "id": "ba3e312e-f29f-4218-a100-8bc8535e8884",
   "metadata": {},
   "outputs": [
    {
     "name": "stdout",
     "output_type": "stream",
     "text": [
      "Random Forest classifier score: 0.8322222222222222\n"
     ]
    },
    {
     "data": {
      "image/png": "[encoded data removed]",
      "text/plain": [
       "<Figure size 432x288 with 2 Axes>"
      ]
     },
     "metadata": {
      "needs_background": "light"
     },
     "output_type": "display_data"
    }
   ],
   "source": [
    "def RFClassifier(X_train, y_train, X_test, k):\n",
    "    '''\n",
    "    Inputs\n",
    "        X_train: Training dataset;\n",
    "        y_train: Training labels;\n",
    "        X_test: Testing dataset;\n",
    "        k: Number of trees in the forest.\n",
    "        \n",
    "    Return\n",
    "        Y_pred: Predicted labels from X_test using Random Forests.\n",
    "    '''\n",
    "    \n",
    "    clf=RandomForestClassifier(n_estimators=k, criterion='entropy')\n",
    "\n",
    "    #Train the model using the training sets\n",
    "    clf.fit(X_train, y_train)\n",
    "\n",
    "    # prediction on test set\n",
    "    Y_pred=clf.predict(X_test)\n",
    "\n",
    "    disp = metrics.ConfusionMatrixDisplay.from_estimator(\n",
    "        clf,\n",
    "        X_test,\n",
    "        y_test,\n",
    "        cmap=plt.cm.Greens,\n",
    "        normalize='true'\n",
    "    )\n",
    "    disp.ax_.set_title('Random Forest Classifier')\n",
    "    \n",
    "    return Y_pred, disp\n",
    "\n",
    "Y_pred_RandomForest, disp_RF = RFClassifier(X_train, y_train, X_test, 150)\n",
    "score_RandomForest = metrics.accuracy_score(y_test, Y_pred_RandomForest)\n",
    "print('Random Forest classifier score:', score_RandomForest)"
   ]
  },
  {
   "cell_type": "code",
   "execution_count": 79,
   "id": "28f68f93-c85e-4955-bc93-8f1f6f4ab896",
   "metadata": {},
   "outputs": [
    {
     "name": "stdout",
     "output_type": "stream",
     "text": [
      "{'C': 100, 'gamma': 0.0001, 'kernel': 'rbf'}\n",
      "SVM classifier score: 0.768160741885626\n"
     ]
    },
    {
     "data": {
      "image/png": "[encoded data removed]",
      "text/plain": [
       "<Figure size 432x288 with 2 Axes>"
      ]
     },
     "metadata": {
      "needs_background": "light"
     },
     "output_type": "display_data"
    }
   ],
   "source": [
    "def SVMClassifierCV(X_train, y_train, X_test):\n",
    "    '''\n",
    "    Inputs\n",
    "        X_train: Training dataset;\n",
    "        y_train: Training labels;\n",
    "        X_test: Testing dataset.\n",
    "        \n",
    "    Return\n",
    "        Y_pred: Predicted labels from X_test using SVM.\n",
    "    '''\n",
    "\n",
    "    #Create SCV object with a K coefficient\n",
    "    parameters = [\n",
    "    {\"kernel\": [\"rbf\"], \"gamma\": [1e-3, 1e-4, 1e-5], \"C\": [1, 10, 100, 1000]},\n",
    "    {\"kernel\": [\"linear\"], \"C\": [1, 10, 100, 1000]},\n",
    "    ]\n",
    "    svc = svm.SVC()\n",
    "    clf = GridSearchCV(svc, parameters)\n",
    "    clf.fit(X_train, y_train) # Fit KNN model\n",
    "    print(clf.best_params_)\n",
    "    Y_pred = clf.predict(X_test)\n",
    "\n",
    "    # classes: List of labels - 0 if no_tumor, 1 if glioma_tumor, 2 if meningioma_tumor, 3 if pituitary_tumor\n",
    "    disp = metrics.ConfusionMatrixDisplay.from_estimator(\n",
    "        clf,\n",
    "        X_test,\n",
    "        y_test,\n",
    "        cmap=plt.cm.Blues,\n",
    "        normalize='true'\n",
    "    )\n",
    "    disp.ax_.set_title('SVM Classifier')\n",
    "    \n",
    "    return Y_pred, disp\n",
    "\n",
    "Y_pred_SVM, disp_SVM = SVMClassifierCV(X_train, y_train, X_test)\n",
    "score_SVM = metrics.accuracy_score(y_test, Y_pred_SVM)\n",
    "print('SVM classifier score:', score_SVM)"
   ]
  },
  {
   "cell_type": "code",
   "execution_count": 74,
   "id": "b83a1dc1",
   "metadata": {},
   "outputs": [
    {
     "name": "stdout",
     "output_type": "stream",
     "text": [
      "Voting classifier score: 0.8855555555555555\n"
     ]
    },
    {
     "data": {
      "image/png": "[encoded data removed]",
      "text/plain": [
       "<Figure size 432x288 with 2 Axes>"
      ]
     },
     "metadata": {
      "needs_background": "light"
     },
     "output_type": "display_data"
    }
   ],
   "source": [
    "def voting(X_train, y_train, X_test, n_neighbours, n_trees):\n",
    "    clf1 = svm.SVC(C=10, kernel='rbf', gamma=1e-4)\n",
    "    # clf2 = LogisticRegressionCV(cv=5, multi_class='multinomial', max_iter = 400, random_state=0)\n",
    "    clf2 = RandomForestClassifier(n_estimators=n_trees)\n",
    "    clf3 = KNeighborsClassifier(n_neighbors=1, leaf_size=10)\n",
    "\n",
    "    eclf1 = VotingClassifier(estimators=[\n",
    "        ('svc', clf1), ('rf', clf2), ('knn', clf3)], voting='hard')\n",
    "    eclf1.fit(X_train, y_train)\n",
    "\n",
    "    Y_pred = eclf1.predict(X_test)\n",
    "\n",
    "    disp = metrics.ConfusionMatrixDisplay.from_estimator(\n",
    "        eclf1,\n",
    "        X_test,\n",
    "        y_test,\n",
    "        cmap='viridis',\n",
    "        normalize='true'\n",
    "    )\n",
    "    disp.ax_.set_title('Voting Classifier')\n",
    "\n",
    "    return Y_pred, disp\n",
    "\n",
    "Y_pred_voting, disp_voting = voting(X_train, y_train, X_test, 2, 150)\n",
    "score_voting = metrics.accuracy_score(y_test, Y_pred_voting)\n",
    "print('Voting classifier score:', score_voting)"
   ]
  },
  {
   "cell_type": "code",
   "execution_count": 16,
   "id": "578c60fc",
   "metadata": {},
   "outputs": [],
   "source": [
    "def baggingClassifierML(X_train, y_train, X_test,k):\n",
    "\n",
    "    # Bagging takes Decision Tree as its base-estimator model by default.\n",
    "    bagmodel=BaggingClassifier(n_estimators=k,max_samples=0.5, max_features=4,random_state=1)\n",
    "    bagmodel.fit(X_train, y_train) # Fit KNN model\n",
    "\n",
    "\n",
    "    Y_pred = bagmodel.predict(X_test)\n",
    "    #print (Y_pred)\n",
    "    \n",
    "    return Y_pred"
   ]
  },
  {
   "cell_type": "code",
   "execution_count": 17,
   "id": "d0ad2a56",
   "metadata": {},
   "outputs": [],
   "source": [
    "def boostingClassifierML(X_train, y_train, X_test,k):\n",
    "    # AdaBoost takes Decision Tree as its base-estimator model by default.\n",
    "    boostmodel=AdaBoostClassifier(n_estimators=k)\n",
    "    boostmodel.fit(X_train, y_train,sample_weight=None) # Fit KNN model\n",
    "\n",
    "\n",
    "    Y_pred = boostmodel.predict(X_test)\n",
    "    #print (Y_pred)\n",
    "    return Y_pred"
   ]
  },
  {
   "cell_type": "code",
   "execution_count": 26,
   "id": "ec650809-e1d9-4061-abd5-1e2cb8fc9ca9",
   "metadata": {},
   "outputs": [
    {
     "ename": "ValueError",
     "evalue": "too many values to unpack (expected 2)",
     "output_type": "error",
     "traceback": [
      "\u001b[1;31m---------------------------------------------------------------------------\u001b[0m",
      "\u001b[1;31mValueError\u001b[0m                                Traceback (most recent call last)",
      "\u001b[1;32m~\\AppData\\Local\\Temp/ipykernel_14660/3781413806.py\u001b[0m in \u001b[0;36m<module>\u001b[1;34m\u001b[0m\n\u001b[0;32m      8\u001b[0m \u001b[0mscore_RandomForest\u001b[0m \u001b[1;33m=\u001b[0m \u001b[0mmetrics\u001b[0m\u001b[1;33m.\u001b[0m\u001b[0maccuracy_score\u001b[0m\u001b[1;33m(\u001b[0m\u001b[0my_test\u001b[0m\u001b[1;33m,\u001b[0m \u001b[0mY_pred_RandomForest\u001b[0m\u001b[1;33m)\u001b[0m\u001b[1;33m\u001b[0m\u001b[1;33m\u001b[0m\u001b[0m\n\u001b[0;32m      9\u001b[0m \u001b[1;33m\u001b[0m\u001b[0m\n\u001b[1;32m---> 10\u001b[1;33m \u001b[0mY_pred_voting\u001b[0m\u001b[1;33m,\u001b[0m \u001b[0mdisp_voting\u001b[0m \u001b[1;33m=\u001b[0m \u001b[0mvoting\u001b[0m\u001b[1;33m(\u001b[0m\u001b[0mX_train\u001b[0m\u001b[1;33m,\u001b[0m \u001b[0my_train\u001b[0m\u001b[1;33m,\u001b[0m \u001b[0mX_test\u001b[0m\u001b[1;33m,\u001b[0m \u001b[1;36m4\u001b[0m\u001b[1;33m)\u001b[0m\u001b[1;33m\u001b[0m\u001b[1;33m\u001b[0m\u001b[0m\n\u001b[0m\u001b[0;32m     11\u001b[0m \u001b[0mscore_voting\u001b[0m \u001b[1;33m=\u001b[0m \u001b[0mmetrics\u001b[0m\u001b[1;33m.\u001b[0m\u001b[0maccuracy_score\u001b[0m\u001b[1;33m(\u001b[0m\u001b[0my_test\u001b[0m\u001b[1;33m,\u001b[0m \u001b[0mY_pred_voting\u001b[0m\u001b[1;33m)\u001b[0m\u001b[1;33m\u001b[0m\u001b[1;33m\u001b[0m\u001b[0m\n\u001b[0;32m     12\u001b[0m \u001b[1;33m\u001b[0m\u001b[0m\n",
      "\u001b[1;31mValueError\u001b[0m: too many values to unpack (expected 2)"
     ]
    },
    {
     "data": {
      "image/png": "[encoded data removed]",
      "text/plain": [
       "<Figure size 432x288 with 2 Axes>"
      ]
     },
     "metadata": {
      "needs_background": "light"
     },
     "output_type": "display_data"
    },
    {
     "data": {
      "image/png": "[encoded data removed]",
      "text/plain": [
       "<Figure size 432x288 with 2 Axes>"
      ]
     },
     "metadata": {
      "needs_background": "light"
     },
     "output_type": "display_data"
    },
    {
     "data": {
      "image/png": "[encoded data removed]",
      "text/plain": [
       "<Figure size 432x288 with 2 Axes>"
      ]
     },
     "metadata": {
      "needs_background": "light"
     },
     "output_type": "display_data"
    },
    {
     "data": {
      "image/png": "[encoded data removed]",
      "text/plain": [
       "<Figure size 432x288 with 2 Axes>"
      ]
     },
     "metadata": {
      "needs_background": "light"
     },
     "output_type": "display_data"
    }
   ],
   "source": [
    "# Y_pred_bagging = baggingClassifierML(X_train, y_train, X_test, 10)\n",
    "# score_bagging = metrics.accuracy_score(y_test, Y_pred_bagging)\n",
    "\n",
    "# Y_pred_boosting=boostingClassifierML(X_train, y_train, X_test, 10)\n",
    "# score_boosting=metrics.accuracy_score(y_test, Y_pred_boosting)\n",
    "\n",
    "# print('Bagging classifier score:', score_bagging)\n",
    "# print('ADA Boosting classifier score:', score_boosting)"
   ]
  },
  {
   "cell_type": "code",
   "execution_count": null,
   "id": "a47fca12",
   "metadata": {},
   "outputs": [],
   "source": []
  }
 ],
 "metadata": {
  "kernelspec": {
   "display_name": "Python 3 (ipykernel)",
   "language": "python",
   "name": "python3"
  },
  "language_info": {
   "codemirror_mode": {
    "name": "ipython",
    "version": 3
   },
   "file_extension": ".py",
   "mimetype": "text/x-python",
   "name": "python",
   "nbconvert_exporter": "python",
   "pygments_lexer": "ipython3",
   "version": "3.9.7"
  }
 },
 "nbformat": 4,
 "nbformat_minor": 5
}
