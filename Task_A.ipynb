{
 "cells": [
  {
   "cell_type": "markdown",
   "id": "1aac778a",
   "metadata": {},
   "source": [
    "## 1.Import libraries\n",
    "The required libraries for this notebook are pandas, sklearn, numpy and matplotlib."
   ]
  },
  {
   "cell_type": "code",
   "execution_count": 1,
   "id": "3688e2be",
   "metadata": {
    "ExecuteTime": {
     "end_time": "2021-12-07T23:33:17.390466Z",
     "start_time": "2021-12-07T23:33:09.163942Z"
    }
   },
   "outputs": [],
   "source": [
    "import matplotlib.pyplot as plt\n",
    "import numpy as np\n",
    "import pandas as pd\n",
    "import os\n",
    "from tqdm.auto import tqdm\n",
    "import imgaug.augmenters as iaa\n",
    "import pywt\n",
    "from sklearn.decomposition import PCA\n",
    "from sklearn.preprocessing import StandardScaler\n",
    "from skimage.io import imread, imshow\n",
    "from skimage.transform import resize\n",
    "from skimage.feature import hog, local_binary_pattern, canny\n",
    "from sklearn.feature_selection import SelectFromModel\n",
    "from sklearn.model_selection import train_test_split, GridSearchCV\n",
    "from sklearn.neighbors import KNeighborsClassifier\n",
    "from sklearn.ensemble import RandomForestClassifier, ExtraTreesClassifier\n",
    "from sklearn import svm, metrics"
   ]
  },
  {
   "cell_type": "markdown",
   "id": "810f3735",
   "metadata": {},
   "source": [
    "## 2.1 Edit label.csv data\n",
    "Add column for binary label: 0 for no tumor, 1 for tumor"
   ]
  },
  {
   "cell_type": "code",
   "execution_count": 2,
   "id": "ae2263cc",
   "metadata": {
    "ExecuteTime": {
     "end_time": "2021-12-07T23:33:17.452901Z",
     "start_time": "2021-12-07T23:33:17.395469Z"
    }
   },
   "outputs": [
    {
     "data": {
      "text/html": [
       "<div>\n",
       "<style scoped>\n",
       "    .dataframe tbody tr th:only-of-type {\n",
       "        vertical-align: middle;\n",
       "    }\n",
       "\n",
       "    .dataframe tbody tr th {\n",
       "        vertical-align: top;\n",
       "    }\n",
       "\n",
       "    .dataframe thead th {\n",
       "        text-align: right;\n",
       "    }\n",
       "</style>\n",
       "<table border=\"1\" class=\"dataframe\">\n",
       "  <thead>\n",
       "    <tr style=\"text-align: right;\">\n",
       "      <th></th>\n",
       "      <th>file_name</th>\n",
       "      <th>label</th>\n",
       "    </tr>\n",
       "  </thead>\n",
       "  <tbody>\n",
       "    <tr>\n",
       "      <th>0</th>\n",
       "      <td>IMAGE_0000.jpg</td>\n",
       "      <td>meningioma_tumor</td>\n",
       "    </tr>\n",
       "    <tr>\n",
       "      <th>1</th>\n",
       "      <td>IMAGE_0001.jpg</td>\n",
       "      <td>no_tumor</td>\n",
       "    </tr>\n",
       "    <tr>\n",
       "      <th>2</th>\n",
       "      <td>IMAGE_0002.jpg</td>\n",
       "      <td>meningioma_tumor</td>\n",
       "    </tr>\n",
       "    <tr>\n",
       "      <th>3</th>\n",
       "      <td>IMAGE_0003.jpg</td>\n",
       "      <td>glioma_tumor</td>\n",
       "    </tr>\n",
       "    <tr>\n",
       "      <th>4</th>\n",
       "      <td>IMAGE_0004.jpg</td>\n",
       "      <td>meningioma_tumor</td>\n",
       "    </tr>\n",
       "  </tbody>\n",
       "</table>\n",
       "</div>"
      ],
      "text/plain": [
       "        file_name             label\n",
       "0  IMAGE_0000.jpg  meningioma_tumor\n",
       "1  IMAGE_0001.jpg          no_tumor\n",
       "2  IMAGE_0002.jpg  meningioma_tumor\n",
       "3  IMAGE_0003.jpg      glioma_tumor\n",
       "4  IMAGE_0004.jpg  meningioma_tumor"
      ]
     },
     "execution_count": 2,
     "metadata": {},
     "output_type": "execute_result"
    }
   ],
   "source": [
    "df = pd.read_csv('./dataset/label.csv')\n",
    "df.head()"
   ]
  },
  {
   "cell_type": "markdown",
   "id": "c74b2494",
   "metadata": {},
   "source": [
    "## 2.2 Add image data\n",
    "Add image data in the form of an array to the label data and save it in a new pickle file so it does not need to run everytime"
   ]
  },
  {
   "cell_type": "code",
   "execution_count": null,
   "id": "b7969391",
   "metadata": {},
   "outputs": [],
   "source": [
    "def create_binary(df):\n",
    "    '''\n",
    "    Inputs\n",
    "        df: Label data.\n",
    "\n",
    "    Return\n",
    "        binary: List of binary labels - 0 if no tumor, 1 if tumor.\n",
    "    '''\n",
    "\n",
    "    binary = []\n",
    "    for label in df['label']:\n",
    "        if 'no_tumor' in label:\n",
    "            binary.append(0)\n",
    "        else:\n",
    "            binary.append(1)\n",
    "    return binary"
   ]
  },
  {
   "cell_type": "code",
   "execution_count": null,
   "id": "556e2579",
   "metadata": {},
   "outputs": [],
   "source": [
    "data_path = './dataset/image'\n",
    "images = []\n",
    "for filename in tqdm(df['file_name']):\n",
    "    im = imread(os.path.join(data_path, filename), as_gray=True)\n",
    "    coeffs = pywt.dwt2(im, 'haar')\n",
    "    LL, (LH, HL, HH) = coeffs\n",
    "#     resized_im = resize(im, (128, 64))\n",
    "    images.append(LL)\n",
    "\n",
    "# Index of images with no_tumor label\n",
    "noTumor_idx = df.index[df['label'] == 'no_tumor'].tolist()\n",
    "# List of images with no_tumor label\n",
    "images_noTumor = []\n",
    "for idx in tqdm(noTumor_idx):\n",
    "    images_noTumor.append(images[idx])\n",
    "\n",
    "seq1 = iaa.Sequential([\n",
    "    iaa.Fliplr(0.5),  # horizontal flips\n",
    "    # Small gaussian blur with random sigma between 0 and 0.5.\n",
    "    # But we only blur about 50% of all images.\n",
    "    iaa.Sometimes(\n",
    "        0.5,\n",
    "        iaa.GaussianBlur(sigma=(0, 0.5))\n",
    "    )\n",
    "], random_order=True)\n",
    "\n",
    "seq2 = iaa.Sequential([\n",
    "    iaa.Flipud(0.5),  # vertical flips\n",
    "    # Small gaussian blur with random sigma between 0 and 0.5.\n",
    "    # But we only blur about 50% of all images.\n",
    "    iaa.Sometimes(\n",
    "        0.5,\n",
    "        iaa.GaussianBlur(sigma=(0, 0.5))\n",
    "    )\n",
    "], random_order=True)\n",
    "\n",
    "# Quadruple the no_tumor images\n",
    "images_aug_noTumor1 = seq1(images=images_noTumor)\n",
    "images_aug_noTumor2 = seq2(images=images_noTumor)\n",
    "\n",
    "# Concatenate the lists of image pixel data to form a new dataset with augmented images\n",
    "images_new = images + images_aug_noTumor1 + images_aug_noTumor2"
   ]
  },
  {
   "cell_type": "code",
   "execution_count": null,
   "id": "17c3956b",
   "metadata": {},
   "outputs": [],
   "source": [
    "def extract_hog(images_pixelData):\n",
    "    '''\n",
    "    Inputs\n",
    "        data_path: Directory path to images in dataset;\n",
    "        df: Label data.\n",
    "        \n",
    "    Return\n",
    "       hog_features: A list of HOG features for each image\n",
    "    '''\n",
    "    hog_features = []\n",
    "    for i in tqdm(range(len(images_pixelData))):\n",
    "        resized_im = resize(images_pixelData[i], (128, 64))\n",
    "        # Extract Histogram of Oriented Gradients (HOG) for the image\n",
    "        fd = hog(resized_im, orientations = 9, pixels_per_cell = (8, 8),\n",
    "                            cells_per_block = (2, 2), visualize = False, block_norm='L2-Hys')\n",
    "        hog_features.append(fd)\n",
    "\n",
    "    return hog_features\n",
    "\n",
    "if os.path.exists('./dataset/label_taskA_hog.pkl'):\n",
    "    print('The pickle file for Task A with hog features data already exists')\n",
    "else:\n",
    "    data_path = './dataset/image'\n",
    "    binary = create_binary(df)\n",
    "    hog_features = extract_hog(images_new)\n",
    "    \n",
    "    label_taskA = pd.DataFrame(data = hog_features)\n",
    "    label_taskA['binary_label'] = binary + [0]*2*len(noTumor_idx) \n",
    "    label_taskA.to_pickle(\"./dataset/label_taskA_hog.pkl\")"
   ]
  },
  {
   "cell_type": "code",
   "execution_count": null,
   "id": "63875065",
   "metadata": {},
   "outputs": [],
   "source": [
    "def extract_lbp(images_pixelData, numPoints):\n",
    "    '''\n",
    "    Inputs\n",
    "        data_path: Directory path to images in dataset;\n",
    "        df: Label data.\n",
    "        \n",
    "    Return\n",
    "       lbp_features: A list of Local Binary Pattern (LBP) features for each image\n",
    "    '''\n",
    "    radius = 3\n",
    "\n",
    "    lbp_features = []\n",
    "    for i in tqdm(range(len(images_pixelData))):\n",
    "        # Extract Local Binary Pattern (LBP) for the image\n",
    "        lbp = local_binary_pattern(images_pixelData[i], numPoints, radius, method=\"uniform\")\n",
    "        # Create bins for histogram\n",
    "        n_bins = int(lbp.max() + 1)\n",
    "        # Create histogram for image\n",
    "        (hist, _) = np.histogram(lbp.ravel(), bins=n_bins, range=(0, n_bins))\n",
    "        \n",
    "        # # normalize the histogram\n",
    "        # hist = hist.astype(\"float\")\n",
    "        # hist /= (hist.sum() + eps)\n",
    "        \n",
    "        lbp_features.append(hist)\n",
    "    return lbp_features\n",
    "\n",
    "if os.path.exists('./dataset/label_taskA_lbp.pkl'):\n",
    "    print('The pickle file for Task B with lbp features data already exists')\n",
    "else:\n",
    "    data_path = './dataset/image'\n",
    "    binary = create_binary(df)\n",
    "    lbp_features = extract_lbp(images_new, 255)\n",
    "    \n",
    "    label_taskA = pd.DataFrame(data = lbp_features)\n",
    "    label_taskA['binary_label'] = binary + [0]*2*len(noTumor_idx)\n",
    "    label_taskA.to_pickle(\"./dataset/label_taskA_lbp.pkl\")"
   ]
  },
  {
   "cell_type": "code",
   "execution_count": null,
   "id": "a9e162de",
   "metadata": {},
   "outputs": [],
   "source": [
    "def extract_canny(images_pixelData, sigma):\n",
    "    '''\n",
    "    Inputs\n",
    "        data_path: Directory path to images in dataset;\n",
    "        df: Label data.\n",
    "        \n",
    "    Return\n",
    "       canny_features: A list of Local Binary Pattern (LBP) features for each image\n",
    "    '''\n",
    "    canny_features = []\n",
    "    for i in tqdm(range(len(images_pixelData))):\n",
    "        # Compute the Canny filter for the image\n",
    "        filtered_im = canny(images_pixelData[i], sigma=sigma).ravel()\n",
    "        # filtered_im = filtered_im.ravel()\n",
    "\n",
    "        canny_features.append(filtered_im)\n",
    "\n",
    "    return canny_features\n",
    "\n",
    "if os.path.exists('./dataset/label_taskA_canny.pkl'):\n",
    "    print('The pickle file for Task B image data filtered with Canny filter already exists')\n",
    "else:\n",
    "    data_path = './dataset/image'\n",
    "    binary = create_binary(df)\n",
    "    canny_features = extract_canny(images_new, 1)\n",
    "    \n",
    "    label_taskA = pd.DataFrame(data = canny_features)\n",
    "    label_taskA['binary_label'] = binary + [0]*2*len(noTumor_idx)\n",
    "    label_taskA.to_pickle(\"./dataset/label_taskA_canny.pkl\")"
   ]
  },
  {
   "cell_type": "code",
   "execution_count": null,
   "id": "3e544185",
   "metadata": {},
   "outputs": [],
   "source": [
    "img = imread('./dataset/image/IMAGE_0000.jpg', as_gray = True)\n",
    "coeffs = pywt.dwt2(img, 'haar')\n",
    "LL, (LH, HL, HH) = coeffs\n",
    "# resized_img = resize(img, (128, 64))\n",
    "# resized_LL = resize(LL, (128, 64))\n",
    "\n",
    "fig, (ax1, ax2)= plt.subplots(nrows=1, ncols=2, figsize=(9, 6))\n",
    "fig.suptitle('Original vs Canny Filtered')\n",
    "ax1.set_title('Original (resized)')\n",
    "ax1.imshow(img, cmap=plt.cm.gray)\n",
    "ax2.set_title('DWT (resized)')\n",
    "ax2.imshow(LL, cmap=plt.cm.gray)"
   ]
  },
  {
   "cell_type": "code",
   "execution_count": null,
   "id": "694b2202",
   "metadata": {},
   "outputs": [],
   "source": [
    "img = imread('./dataset/image/IMAGE_0000.jpg', as_gray = True)\n",
    "coeffs = pywt.dwt2(img, 'haar')\n",
    "LL, (LH, HL, HH) = coeffs\n",
    "\n",
    "fd, hog_img = hog(LL, orientations = 9, pixels_per_cell = (8, 8),\n",
    "                            cells_per_block = (2, 2), visualize = True, block_norm='L2-Hys')\n",
    "\n",
    "filtered_im = canny(LL, sigma=1)\n",
    "\n",
    "lbp = local_binary_pattern(LL, 50, 8, method=\"uniform\")\n",
    "\n",
    "fig, axs = plt.subplots(nrows=1, ncols=3, figsize=(16, 9))\n",
    "axs[0].set_title('HOG Features')\n",
    "axs[0].imshow(hog_img, cmap=plt.cm.gray)\n",
    "\n",
    "axs[1].set_title('Canny Filtered')\n",
    "axs[1].imshow(filtered_im, cmap=plt.cm.gray)\n",
    "\n",
    "axs[2].set_title('LBP')\n",
    "axs[2].imshow(lbp, cmap=plt.cm.gray)"
   ]
  },
  {
   "cell_type": "code",
   "execution_count": 3,
   "id": "df94d597",
   "metadata": {
    "ExecuteTime": {
     "end_time": "2021-12-07T23:33:20.309994Z",
     "start_time": "2021-12-07T23:33:20.295732Z"
    }
   },
   "outputs": [],
   "source": [
    "def PCAPredict(X_train, X_test, k):\n",
    "    '''\n",
    "    Inputs\n",
    "        X_train: Training dataset;\n",
    "        X_test: Testing dataset;\n",
    "        k: Number of components to use.\n",
    "        \n",
    "    Return\n",
    "        X_train_PCA: Training dataset after applying PCA to reduce its dimensions;\n",
    "        X_test_PCA: Test dataset after applying PCA to reduce its dimensions.\n",
    "    '''\n",
    "\n",
    "    # the built-in function for PCA\n",
    "    pca = PCA(k)\n",
    "    \n",
    "    # the built-in function to standardize features by removing the mean and scaling to unit variance\n",
    "    scaler = StandardScaler()\n",
    "\n",
    "    # fit the algorithm with dataset\n",
    "    \n",
    "    scaler.fit(X_train)\n",
    "    X_train_scaled = scaler.transform(X_train)\n",
    "    X_test_scaled = scaler.transform(X_test)\n",
    "    \n",
    "    pca.fit(X_train_scaled)\n",
    "    X_train_PCA = pca.transform(X_train_scaled)\n",
    "    X_test_PCA = pca.transform(X_test_scaled)\n",
    "    \n",
    "    return X_train_PCA, X_test_PCA"
   ]
  },
  {
   "cell_type": "code",
   "execution_count": 4,
   "id": "0abb8de0",
   "metadata": {
    "ExecuteTime": {
     "end_time": "2021-12-07T23:33:20.742214Z",
     "start_time": "2021-12-07T23:33:20.714471Z"
    }
   },
   "outputs": [],
   "source": [
    "def feature_selection(X_train, X_test, y_train, select):\n",
    "    if select == 'et':\n",
    "        clf = ExtraTreesClassifier(n_estimators=100)\n",
    "        clf = clf.fit(X_train, y_train)\n",
    "        model = SelectFromModel(clf, prefit=True)\n",
    "        X_train_new = model.transform(X_train)\n",
    "        X_test_new = model.transform(X_test)\n",
    "    elif select == 'rf':\n",
    "        forest = RandomForestClassifier(random_state=0)\n",
    "        forest.fit(X_train, y_train)\n",
    "        model = SelectFromModel(forest, prefit=True)\n",
    "        X_train_new = model.transform(X_train)\n",
    "        X_test_new = model.transform(X_test)\n",
    "    elif select == 'svc':\n",
    "        lsvc = svm.LinearSVC(C=0.01, penalty=\"l1\", dual=False).fit(X_train, y_train)\n",
    "        model = SelectFromModel(lsvc, prefit=True)\n",
    "        X_train_new = model.transform(X_train)\n",
    "        X_test_new = model.transform(X_test)\n",
    "    \n",
    "    return X_train_new, X_test_new"
   ]
  },
  {
   "cell_type": "code",
   "execution_count": 5,
   "id": "ab1b75e3",
   "metadata": {
    "ExecuteTime": {
     "end_time": "2021-12-07T23:35:23.424099Z",
     "start_time": "2021-12-07T23:33:21.863345Z"
    }
   },
   "outputs": [
    {
     "name": "stdout",
     "output_type": "stream",
     "text": [
      "train set: 0.7  | test set: 0.3\n",
      "723 features after PCA\n",
      "150 features left after feature selection\n"
     ]
    },
    {
     "data": {
      "text/plain": [
       "array([[-1.04596703e+01,  1.88057054e+01, -1.68635836e+00, ...,\n",
       "        -5.53733641e-01,  2.83731140e-01, -3.08058087e-01],\n",
       "       [-5.34693638e+00, -1.64563017e+01, -1.58482801e+01, ...,\n",
       "        -2.49796111e-01, -1.29782736e-02,  1.20350869e+00],\n",
       "       [ 6.95702095e+00,  2.60601553e+00, -6.64019480e+00, ...,\n",
       "        -1.88515509e-01,  7.47782373e-01,  3.62096816e-01],\n",
       "       ...,\n",
       "       [-1.89653773e+01,  7.36623555e+00, -6.26796116e+00, ...,\n",
       "         2.88634113e-01, -7.55773616e-01,  3.00111147e-01],\n",
       "       [ 1.35771882e+01,  2.04595053e+01,  9.48047290e+00, ...,\n",
       "        -6.26185012e-01,  5.57395111e-01, -1.97728034e-01],\n",
       "       [-6.46901810e+00,  1.37145192e+01, -1.35308450e+01, ...,\n",
       "        -1.01833475e-01, -3.57786032e-01, -8.63181215e-01]])"
      ]
     },
     "execution_count": 5,
     "metadata": {},
     "output_type": "execute_result"
    }
   ],
   "source": [
    "feature = 'hog'\n",
    "\n",
    "if feature == 'hog':\n",
    "    # Doing classification with image HOG features\n",
    "    label_taskA = pd.read_pickle(\"./dataset/label_taskA_hog.pkl\")\n",
    "elif feature == 'lbp':\n",
    "    # Doing classification with image LBP features\n",
    "    label_taskA = pd.read_pickle(\"./dataset/label_taskA_lbp.pkl\")\n",
    "elif feature == 'canny':\n",
    "    # Doing classification with Canny filtered image data\n",
    "    label_taskA = pd.read_pickle(\"./dataset/label_taskA_canny.pkl\")\n",
    "    \n",
    "X = label_taskA.drop('binary_label',axis=1) # All other features\n",
    "Y = label_taskA['binary_label'] # binary label\n",
    "\n",
    "X_train, X_test, y_train, y_test = train_test_split(X, Y, test_size = 0.3, random_state = 3, shuffle=True, stratify=Y) \n",
    "#test_size= should be between 0.0 and 1.0 and represent the proportion of the dataset to include in the test split\n",
    "#everytime you run it without specifying random_state, you will get a different result, this is expected behavior\n",
    "#print (len(X_test), len(y_test))\n",
    "\n",
    "print('train set: {}  | test set: {}'.format(round(((len(y_train)*1.0)/len(X)),3),\n",
    "                                                       round((len(y_test)*1.0)/len(X),3)))\n",
    "\n",
    "# Doing dimensionality reduction with PCA\n",
    "X_train, X_test = PCAPredict(X_train, X_test, 0.95)\n",
    "print(f'{X_train.shape[1]} features after PCA')\n",
    "\n",
    "# Doing feature selection\n",
    "X_train, X_test = feature_selection(X_train, X_test, y_train, 'rf')\n",
    "print(f'{X_train.shape[1]} features left after feature selection')\n",
    "X_train"
   ]
  },
  {
   "cell_type": "code",
   "execution_count": null,
   "id": "029240f3",
   "metadata": {},
   "outputs": [],
   "source": [
    "X_train.mean()"
   ]
  },
  {
   "cell_type": "code",
   "execution_count": null,
   "id": "52dd9f83",
   "metadata": {},
   "outputs": [],
   "source": [
    "Y.value_counts()"
   ]
  },
  {
   "cell_type": "code",
   "execution_count": null,
   "id": "381c14fb",
   "metadata": {},
   "outputs": [],
   "source": [
    "def KNNClassifierCV(X_train, y_train, X_test):\n",
    "    '''\n",
    "    Inputs\n",
    "        X_train: Training dataset;\n",
    "        y_train: Training labels;\n",
    "        X_test: Testing dataset;\n",
    "        \n",
    "    Return\n",
    "        Y_pred: Predicted labels from X_test using K-Nearest Neighbour.\n",
    "    '''\n",
    "\n",
    "    # Create dictionary of parameters to cross validate the estimator on\n",
    "    parameters = [\n",
    "    {'algorithm': ['ball_tree'], 'n_neighbors':[1, 2, 3, 4], 'leaf_size':[10, 20, 30]},\n",
    "    {'algorithm': ['kd_tree'], 'n_neighbors':[1, 2, 3, 4], 'leaf_size':[10, 20, 30]},\n",
    "    {'algorithm': ['brute'], 'n_neighbors':[1, 2, 3, 4]}\n",
    "    ]\n",
    "\n",
    "    # Create KNN object\n",
    "    neigh = KNeighborsClassifier()\n",
    "    # Exhaustive search over all chosen parameters\n",
    "    clf = GridSearchCV(neigh, parameters, scoring='accuracy')\n",
    "    # Fit KNN model with the parameters for cross-validation\n",
    "    clf.fit(X_train, y_train) \n",
    "    print(clf.best_params_)\n",
    "    # Predict labels with the best parameters from cross-validation\n",
    "    Y_pred = clf.predict(X_test)\n",
    "    \n",
    "    fig, axs = plt.subplots(nrows=1, ncols=2, figsize=(12, 6))\n",
    "    fig.suptitle('KNN Classifier')\n",
    "    axs[0].set_title('Train')\n",
    "    axs[1].set_title('Test')\n",
    "    metrics.ConfusionMatrixDisplay.from_estimator(\n",
    "        clf,\n",
    "        X_train,\n",
    "        y_train,\n",
    "        cmap=plt.cm.Reds,\n",
    "        normalize='true',\n",
    "        ax = axs[0],\n",
    "        display_labels = ['No tumor', 'Tumor'],\n",
    "        colorbar = False\n",
    "    )\n",
    "    metrics.ConfusionMatrixDisplay.from_estimator(\n",
    "        clf,\n",
    "        X_test,\n",
    "        y_test,\n",
    "        cmap=plt.cm.Reds,\n",
    "        normalize='true',\n",
    "        ax = axs[1],\n",
    "        display_labels = ['No tumor', 'Tumor'],\n",
    "        colorbar = False\n",
    "    )\n",
    "    \n",
    "    return Y_pred\n",
    "\n",
    "# clf = svm.SVC()\n",
    "# clf.fit(X_train, y_train)\n",
    "# Y_pred = clf.predict(X_test)\n",
    "# throws error: setting an array element with a sequence\n",
    "# when getting X from dataframe, the resulting array is dtype object,\n",
    "# but when getting X directly from hog_features, resulting array is dtype float??\n",
    "\n",
    "Y_pred_KNN = KNNClassifierCV(X_train, y_train, X_test)\n",
    "score_KNN = metrics.accuracy_score(y_test, Y_pred_KNN)\n",
    "print('KNN classifier score:', score_KNN)"
   ]
  },
  {
   "cell_type": "code",
   "execution_count": null,
   "id": "fb64eb5e",
   "metadata": {},
   "outputs": [],
   "source": [
    "# def RFClassifierCV(X_train, y_train, X_test):\n",
    "#     '''\n",
    "#     Inputs\n",
    "#         X_train: Training dataset;\n",
    "#         y_train: Training labels;\n",
    "#         X_test: Testing dataset;\n",
    "#         k: Number of trees in the forest.\n",
    "        \n",
    "#     Return\n",
    "#         Y_pred: Predicted labels from X_test using Random Forests.\n",
    "#     '''\n",
    "#     # Create dictionary of parameters to cross validate the estimator on\n",
    "#     parameters = {'n_estimators':[100, 200, 300], 'criterion':['entropy', 'gini'],\n",
    "#     'max_features': ['sqrt', 'log2']}\n",
    "#     # Create Random Forest object\n",
    "#     RF = RandomForestClassifier()\n",
    "#     # Exhaustive search over all chosen parameters\n",
    "#     clf = GridSearchCV(RF, parameters, scoring='accuracy')\n",
    "#     # Fit RF model with the parameters for cross-validation\n",
    "#     clf.fit(X_train, y_train) \n",
    "#     print(clf.best_params_)\n",
    "#     # Predict labels with the best parameters from cross-validation\n",
    "#     Y_pred = clf.predict(X_test)\n",
    "\n",
    "#     disp = metrics.ConfusionMatrixDisplay.from_estimator(\n",
    "#         clf,\n",
    "#         X_test,\n",
    "#         y_test,\n",
    "#         cmap=plt.cm.Greens,\n",
    "#         normalize='true'\n",
    "#     )\n",
    "#     disp.ax_.set_title('Random Forest Classifier')\n",
    "    \n",
    "#     return Y_pred, disp\n",
    "\n",
    "# Y_pred_RandomForest, disp_RF = RFClassifierCV(X_train, y_train, X_test)\n",
    "# score_RandomForest = metrics.accuracy_score(y_test, Y_pred_RandomForest)\n",
    "# print('Random Forest classifier score:', score_RandomForest)"
   ]
  },
  {
   "cell_type": "code",
   "execution_count": 8,
   "id": "f5ed9e72",
   "metadata": {
    "ExecuteTime": {
     "end_time": "2021-12-07T23:38:52.667680Z",
     "start_time": "2021-12-07T23:37:52.595982Z"
    }
   },
   "outputs": [
    {
     "name": "stdout",
     "output_type": "stream",
     "text": [
      "{'C': 10, 'gamma': 'scale', 'kernel': 'rbf'}\n",
      "SVM classifier score: 0.9829497016197783\n"
     ]
    },
    {
     "data": {
      "image/png": "[encoded data removed]",
      "text/plain": [
       "<Figure size 1080x432 with 2 Axes>"
      ]
     },
     "metadata": {
      "needs_background": "light"
     },
     "output_type": "display_data"
    }
   ],
   "source": [
    "def SVMClassifierCV(X_train, y_train, X_test):\n",
    "    '''\n",
    "    Inputs\n",
    "        X_train: Training dataset;\n",
    "        y_train: Training labels;\n",
    "        X_test: Testing dataset.\n",
    "        \n",
    "    Return\n",
    "        Y_pred: Predicted labels from X_test using SVM.\n",
    "    '''\n",
    "\n",
    "    # Create dictionary of parameters to cross validate the estimator on\n",
    "    # linear was considered in another function as kernel='linear' took very long to compute\n",
    "    parameters = [\n",
    "    {\"kernel\": [\"rbf\"], \"gamma\": ['scale', 'auto'], \"C\": [1, 10, 100]},\n",
    "    {\"kernel\": [\"poly\"], \"gamma\": ['scale', 'auto'], \"C\": [1, 10, 100], \"degree\": [2, 3, 4]}\n",
    "    ]\n",
    "\n",
    "    # Create SVC object\n",
    "    svc = svm.SVC()\n",
    "    # Exhaustive search over all chosen parameters\n",
    "    clf = GridSearchCV(svc, parameters, scoring='accuracy', n_jobs=-2)\n",
    "    # Fit SVC model with the parameters for cross-validation\n",
    "    clf.fit(X_train, y_train)\n",
    "    # Predict labels with the best parameters from cross-validation\n",
    "    print(clf.best_params_)\n",
    "\n",
    "#     clf = svm.SVC(C=10, kernel='poly', gamma='scale', degree=3)\n",
    "#     clf = svm.LinearSVC(C=10, dual=False)\n",
    "    clf.fit(X_train, y_train)\n",
    "    \n",
    "    Y_pred = clf.predict(X_test)\n",
    "\n",
    "    fig, axs = plt.subplots(nrows=1, ncols=2, figsize=(15, 6))\n",
    "    fig.suptitle('SVM Classifier')\n",
    "    axs[0].set_title('Train')\n",
    "    axs[1].set_title('Test')\n",
    "    metrics.ConfusionMatrixDisplay.from_estimator(\n",
    "        clf,\n",
    "        X_train,\n",
    "        y_train,\n",
    "        cmap=plt.cm.Blues,\n",
    "        normalize='true',\n",
    "        ax = axs[0],\n",
    "        display_labels = ['No tumor', 'Tumor'],\n",
    "        colorbar = False\n",
    "    )\n",
    "    metrics.ConfusionMatrixDisplay.from_estimator(\n",
    "        clf,\n",
    "        X_test,\n",
    "        y_test,\n",
    "        cmap=plt.cm.Blues,\n",
    "        normalize='true',\n",
    "        ax = axs[1],\n",
    "        display_labels = ['No tumor', 'Tumor'],\n",
    "        colorbar = False\n",
    "    )\n",
    "    \n",
    "    return Y_pred\n",
    "\n",
    "Y_pred_SVM = SVMClassifierCV(X_train, y_train, X_test)\n",
    "score_SVM = metrics.accuracy_score(y_test, Y_pred_SVM)\n",
    "print('SVM classifier score:', score_SVM)"
   ]
  },
  {
   "cell_type": "code",
   "execution_count": 11,
   "id": "00f481ab",
   "metadata": {
    "ExecuteTime": {
     "end_time": "2021-12-07T23:47:11.956044Z",
     "start_time": "2021-12-07T23:46:41.096685Z"
    }
   },
   "outputs": [
    {
     "name": "stderr",
     "output_type": "stream",
     "text": [
      "C:\\Users\\tanpi\\miniconda3\\envs\\amls-cw\\lib\\site-packages\\sklearn\\svm\\_base.py:1208: ConvergenceWarning: Liblinear failed to converge, increase the number of iterations.\n",
      "  ConvergenceWarning,\n"
     ]
    },
    {
     "name": "stdout",
     "output_type": "stream",
     "text": [
      "{'C': 1, 'loss': 'hinge'}\n"
     ]
    },
    {
     "name": "stderr",
     "output_type": "stream",
     "text": [
      "C:\\Users\\tanpi\\miniconda3\\envs\\amls-cw\\lib\\site-packages\\sklearn\\svm\\_base.py:1208: ConvergenceWarning: Liblinear failed to converge, increase the number of iterations.\n",
      "  ConvergenceWarning,\n"
     ]
    },
    {
     "name": "stdout",
     "output_type": "stream",
     "text": [
      "LSVM classifier score: 0.876385336743393\n"
     ]
    },
    {
     "data": {
      "image/png": "[encoded data removed]",
      "text/plain": [
       "<Figure size 1080x432 with 2 Axes>"
      ]
     },
     "metadata": {
      "needs_background": "light"
     },
     "output_type": "display_data"
    }
   ],
   "source": [
    "def LSVMClassifierCV(X_train, y_train, X_test):\n",
    "    '''\n",
    "    Inputs\n",
    "        X_train: Training dataset;\n",
    "        y_train: Training labels;\n",
    "        X_test: Testing dataset.\n",
    "        \n",
    "    Return\n",
    "        Y_pred: Predicted labels from X_test using SVM.\n",
    "    '''\n",
    "\n",
    "    # Create dictionary of parameters to cross validate the estimator on\n",
    "    # linear was considered in another function as kernel='linear' took very long to compute\n",
    "    parameters = {\"loss\": ['hinge', 'squared_hinge'], \"C\": [1, 10, 100]}\n",
    "\n",
    "    # Create SVC object\n",
    "    svc = svm.LinearSVC(dual=False)\n",
    "    # Exhaustive search over all chosen parameters\n",
    "    clf = GridSearchCV(svc, parameters, scoring='accuracy', n_jobs=-2, error_score=0.0)\n",
    "    # Fit SVC model with the parameters for cross-validation\n",
    "    clf.fit(X_train, y_train)\n",
    "    # Predict labels with the best parameters from cross-validation\n",
    "    print(clf.best_params_)\n",
    "\n",
    "    clf.fit(X_train, y_train)\n",
    "    \n",
    "    Y_pred = clf.predict(X_test)\n",
    "\n",
    "    fig, axs = plt.subplots(nrows=1, ncols=2, figsize=(15, 6))\n",
    "    fig.suptitle('Linear SVM Classifier')\n",
    "    axs[0].set_title('Train')\n",
    "    axs[1].set_title('Test')\n",
    "    metrics.ConfusionMatrixDisplay.from_estimator(\n",
    "        clf,\n",
    "        X_train,\n",
    "        y_train,\n",
    "        cmap=plt.cm.Blues,\n",
    "        normalize='true',\n",
    "        ax = axs[0],\n",
    "        display_labels = ['No tumor', 'Tumor'],\n",
    "        colorbar = False\n",
    "    )\n",
    "    metrics.ConfusionMatrixDisplay.from_estimator(\n",
    "        clf,\n",
    "        X_test,\n",
    "        y_test,\n",
    "        cmap=plt.cm.Blues,\n",
    "        normalize='true',\n",
    "        ax = axs[1],\n",
    "        display_labels = ['No tumor', 'Tumor'],\n",
    "        colorbar = False\n",
    "    )\n",
    "    \n",
    "    return Y_pred\n",
    "\n",
    "Y_pred_LSVM = LSVMClassifierCV(X_train, y_train, X_test)\n",
    "score_LSVM = metrics.accuracy_score(y_test, Y_pred_LSVM)\n",
    "print('LSVM classifier score:', score_LSVM)"
   ]
  },
  {
   "cell_type": "code",
   "execution_count": null,
   "id": "4eb37e46",
   "metadata": {},
   "outputs": [],
   "source": []
  }
 ],
 "metadata": {
  "kernelspec": {
   "display_name": "Python 3 (ipykernel)",
   "language": "python",
   "name": "python3"
  },
  "language_info": {
   "codemirror_mode": {
    "name": "ipython",
    "version": 3
   },
   "file_extension": ".py",
   "mimetype": "text/x-python",
   "name": "python",
   "nbconvert_exporter": "python",
   "pygments_lexer": "ipython3",
   "version": "3.7.12"
  },
  "notify_time": "10"
 },
 "nbformat": 4,
 "nbformat_minor": 5
}
